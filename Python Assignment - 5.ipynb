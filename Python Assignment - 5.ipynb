{
 "cells": [
  {
   "cell_type": "markdown",
   "metadata": {},
   "source": [
    "## Write a Function to Compute 5/0 and use try/except to catch the exceptions"
   ]
  },
  {
   "cell_type": "code",
   "execution_count": 2,
   "metadata": {},
   "outputs": [
    {
     "name": "stdout",
     "output_type": "stream",
     "text": [
      "Division by ZERO is not Possible!!\n",
      "Task Completed\n"
     ]
    }
   ],
   "source": [
    "def expression():\n",
    "    return 5/0\n",
    "\n",
    "try:\n",
    "    expression()\n",
    "except ZeroDivisionError as ze:\n",
    "    print(\"Division by ZERO is not Possible!!\")\n",
    "finally:\n",
    "    print(\"Task Completed\")"
   ]
  },
  {
   "cell_type": "markdown",
   "metadata": {},
   "source": [
    "#### Implement a Python program to generate all sentences where subject is in\n",
    "[\"Americans\", \"Indians\"] and verb is in [\"Play\", \"watch\"] and the object is in\n",
    "[\"Baseball\",\"cricket\"].\n",
    "Hint: Subject,Verb and Object should be declared in the program as shown below.\n",
    "subjects=[\"Americans \",\"Indians\"]\n",
    "verbs=[\"play\",\"watch\"]\n",
    "objects=[\"Baseball\",\"Cricket\"]\n",
    "Output should come as below:\n",
    "Americans play Baseball.\n",
    "Americans play Cricket.\n",
    "Americans watch Baseball.\n",
    "Americans watch Cricket.\n",
    "Indians play Baseball.\n",
    "Indians play Cricket.\n",
    "Indians watch Baseball.\n",
    "Indians watch Cricket."
   ]
  },
  {
   "cell_type": "code",
   "execution_count": 14,
   "metadata": {},
   "outputs": [
    {
     "name": "stdout",
     "output_type": "stream",
     "text": [
      "Americans Play Baseball\n",
      "Americans Play cricket\n",
      "Americans watch Baseball\n",
      "Americans watch cricket\n",
      "Indians Play Baseball\n",
      "Indians Play cricket\n",
      "Indians watch Baseball\n",
      "Indians watch cricket\n"
     ]
    }
   ],
   "source": [
    "subject=[\"Americans\", \"Indians\"]\n",
    "verb=[\"Play\", \"watch\"]\n",
    "objct=[\"Baseball\",\"cricket\"]\n",
    "\n",
    "\n",
    "lines = [ (s+\" \"+ v + \" \" + o) for s in subject for v in verb for o in objct]  # List comprehension\n",
    "for line in lines:\n",
    "    print (line)\n",
    "\n",
    "#==================================================================================================\n",
    "#Above code for Simplification:\n",
    "\n",
    "# lines = []\n",
    "# for s in subject:\n",
    "#     for v in verb:\n",
    "#         for o in objct:\n",
    "#             lines.append((s+\" \"+ v + \" \" + o))\n",
    "# print(lines)\n",
    "# for line in lines:\n",
    "#     print(line)\n",
    "\n"
   ]
  },
  {
   "cell_type": "code",
   "execution_count": 16,
   "metadata": {},
   "outputs": [
    {
     "name": "stdout",
     "output_type": "stream",
     "text": [
      "['Americans Play Baseball', 'Americans Play cricket', 'Americans watch Baseball', 'Americans watch cricket', 'Indians Play Baseball', 'Indians Play cricket', 'Indians watch Baseball', 'Indians watch cricket']\n",
      "\n",
      "Americans Play Baseball\n",
      "Americans Play cricket\n",
      "Americans watch Baseball\n",
      "Americans watch cricket\n",
      "Indians Play Baseball\n",
      "Indians Play cricket\n",
      "Indians watch Baseball\n",
      "Indians watch cricket\n"
     ]
    }
   ],
   "source": [
    "#Above code for Simplification:\n",
    "\n",
    "lines = []\n",
    "for s in subject:\n",
    "    for v in verb:\n",
    "        for o in objct:\n",
    "            lines.append((s+\" \"+ v + \" \" + o))\n",
    "print(lines)\n",
    "print()\n",
    "for line in lines:\n",
    "    print(line)"
   ]
  },
  {
   "cell_type": "code",
   "execution_count": null,
   "metadata": {},
   "outputs": [],
   "source": []
  }
 ],
 "metadata": {
  "kernelspec": {
   "display_name": "Python 3",
   "language": "python",
   "name": "python3"
  },
  "language_info": {
   "codemirror_mode": {
    "name": "ipython",
    "version": 3
   },
   "file_extension": ".py",
   "mimetype": "text/x-python",
   "name": "python",
   "nbconvert_exporter": "python",
   "pygments_lexer": "ipython3",
   "version": "3.8.3"
  }
 },
 "nbformat": 4,
 "nbformat_minor": 4
}
